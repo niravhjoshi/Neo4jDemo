{
 "cells": [
  {
   "cell_type": "code",
   "execution_count": 3,
   "id": "0f4a9f91-c96d-416b-95d9-0349c57b230b",
   "metadata": {
    "scrolled": true
   },
   "outputs": [
    {
     "name": "stdout",
     "output_type": "stream",
     "text": [
      "Package                   Version\n",
      "------------------------- -----------\n",
      "anyio                     3.7.1\n",
      "appnope                   0.1.3\n",
      "argon2-cffi               23.1.0\n",
      "argon2-cffi-bindings      21.2.0\n",
      "arrow                     1.2.3\n",
      "asttokens                 2.2.1\n",
      "async-lru                 2.0.4\n",
      "attrs                     23.1.0\n",
      "Babel                     2.12.1\n",
      "backcall                  0.2.0\n",
      "beautifulsoup4            4.12.2\n",
      "bleach                    6.0.0\n",
      "certifi                   2023.7.22\n",
      "cffi                      1.15.1\n",
      "charset-normalizer        3.2.0\n",
      "comm                      0.1.4\n",
      "contourpy                 1.1.0\n",
      "cycler                    0.11.0\n",
      "debugpy                   1.6.7.post1\n",
      "decorator                 5.1.1\n",
      "defusedxml                0.7.1\n",
      "exceptiongroup            1.1.3\n",
      "executing                 1.2.0\n",
      "fastjsonschema            2.18.0\n",
      "fonttools                 4.42.1\n",
      "fqdn                      1.5.1\n",
      "idna                      3.4\n",
      "interchange               2021.0.4\n",
      "ipykernel                 6.25.1\n",
      "ipython                   8.14.0\n",
      "isoduration               20.11.0\n",
      "jedi                      0.19.0\n",
      "Jinja2                    3.1.2\n",
      "json5                     0.9.14\n",
      "jsonpointer               2.4\n",
      "jsonschema                4.19.0\n",
      "jsonschema-specifications 2023.7.1\n",
      "jupyter_client            8.3.0\n",
      "jupyter_core              5.3.1\n",
      "jupyter-events            0.7.0\n",
      "jupyter-lsp               2.2.0\n",
      "jupyter_server            2.7.2\n",
      "jupyter_server_terminals  0.4.4\n",
      "jupyterlab                4.0.5\n",
      "jupyterlab-pygments       0.2.2\n",
      "jupyterlab_server         2.24.0\n",
      "kiwisolver                1.4.4\n",
      "MarkupSafe                2.1.3\n",
      "matplotlib                3.7.2\n",
      "matplotlib-inline         0.1.6\n",
      "mistune                   3.0.1\n",
      "monotonic                 1.6\n",
      "nbclient                  0.8.0\n",
      "nbconvert                 7.7.4\n",
      "nbformat                  5.9.2\n",
      "neo4j                     5.10.0\n",
      "neobolt                   1.7.17\n",
      "neomodel                  5.1.0\n",
      "nest-asyncio              1.5.7\n",
      "notebook_shim             0.2.3\n",
      "numpy                     1.25.2\n",
      "overrides                 7.4.0\n",
      "packaging                 23.1\n",
      "pandas                    2.0.3\n",
      "pandocfilters             1.5.0\n",
      "pansi                     2020.7.3\n",
      "parso                     0.8.3\n",
      "pexpect                   4.8.0\n",
      "pickleshare               0.7.5\n",
      "Pillow                    10.0.0\n",
      "pip                       22.3.1\n",
      "platformdirs              3.10.0\n",
      "prometheus-client         0.17.1\n",
      "prompt-toolkit            3.0.39\n",
      "psutil                    5.9.5\n",
      "ptyprocess                0.7.0\n",
      "pure-eval                 0.2.2\n",
      "py2neo                    2021.2.3\n",
      "pycparser                 2.21\n",
      "Pygments                  2.16.1\n",
      "pyparsing                 3.0.9\n",
      "python-dateutil           2.8.2\n",
      "python-json-logger        2.0.7\n",
      "pytz                      2023.3\n",
      "PyYAML                    6.0.1\n",
      "pyzmq                     25.1.1\n",
      "referencing               0.30.2\n",
      "requests                  2.31.0\n",
      "rfc3339-validator         0.1.4\n",
      "rfc3986-validator         0.1.1\n",
      "rpds-py                   0.9.2\n",
      "seaborn                   0.12.2\n",
      "Send2Trash                1.8.2\n",
      "setuptools                65.5.1\n",
      "six                       1.16.0\n",
      "sniffio                   1.3.0\n",
      "soupsieve                 2.4.1\n",
      "stack-data                0.6.2\n",
      "terminado                 0.17.1\n",
      "tinycss2                  1.2.1\n",
      "tomli                     2.0.1\n",
      "tornado                   6.3.3\n",
      "tqdm                      4.66.1\n",
      "traitlets                 5.9.0\n",
      "typing_extensions         4.7.1\n",
      "tzdata                    2023.3\n",
      "uri-template              1.3.0\n",
      "urllib3                   2.0.4\n",
      "wcwidth                   0.2.6\n",
      "webcolors                 1.13\n",
      "webencodings              0.5.1\n",
      "websocket-client          1.6.1\n",
      "wheel                     0.38.4\n",
      "\n",
      "\u001b[1m[\u001b[0m\u001b[34;49mnotice\u001b[0m\u001b[1;39;49m]\u001b[0m\u001b[39;49m A new release of pip available: \u001b[0m\u001b[31;49m22.3.1\u001b[0m\u001b[39;49m -> \u001b[0m\u001b[32;49m23.2.1\u001b[0m\n",
      "\u001b[1m[\u001b[0m\u001b[34;49mnotice\u001b[0m\u001b[1;39;49m]\u001b[0m\u001b[39;49m To update, run: \u001b[0m\u001b[32;49mpip install --upgrade pip\u001b[0m\n"
     ]
    }
   ],
   "source": [
    "!pip list"
   ]
  },
  {
   "cell_type": "code",
   "execution_count": 44,
   "id": "b6d883a2-3a37-49da-9183-ebee2bdafabd",
   "metadata": {},
   "outputs": [
    {
     "name": "stdout",
     "output_type": "stream",
     "text": [
      "Graph('bolt://localhost:7687', name='pyload')\n"
     ]
    }
   ],
   "source": [
    "from py2neo import Graph\n",
    "\n",
    "import pandas as pd\n",
    "\n",
    "graph = Graph(\"bolt://localhost:7687\", user=\"pyappuser\", password=\"Infa@1234\", name=\"pyload\")\n",
    "print(graph)\n",
    "graph.delete_all()\n"
   ]
  },
  {
   "cell_type": "code",
   "execution_count": 45,
   "id": "e6146bd8-60cf-4036-b936-b7f1cd82551d",
   "metadata": {
    "scrolled": true
   },
   "outputs": [
    {
     "name": "stdout",
     "output_type": "stream",
     "text": [
      "  passportnumber        name   country                     nameofinstitution  \\\n",
      "0     MNO9101PQR  Anil Kumar  Malaysia                  Raika Primary School   \n",
      "1     MNO9101PQR  Anil Kumar  Malaysia               Baranagar Middle School   \n",
      "2     MNO9101PQR  Anil Kumar  Malaysia        St George’s Junior High School   \n",
      "3     MNO9101PQR  Anil Kumar  Malaysia        St George’s Senior High School   \n",
      "4     MNO9101PQR  Anil Kumar   Vietnam  Smart National University of Vietnam   \n",
      "\n",
      "                                            course  startyear  endyear  \n",
      "0                                                -       1978     1983  \n",
      "1           All India Secondary School Examination       1984     1985  \n",
      "2                                                -       1986     1987  \n",
      "3  All India Senior School Certificate Examination       1988     1989  \n",
      "4              Bachelor of Business Administration       1992     1995  \n",
      "  passportnumber         name    country                 cardnumber  \\\n",
      "0     ABC1234DEF  Ariff Johan  Singapore  2345-6789-1011 -1213-1415   \n",
      "1     ABC1234DEF  Ariff Johan  Singapore  2345-6789-1011 -1213-1415   \n",
      "2     ABC1234DEF  Ariff Johan  Singapore  2345-6789-1011 -1213-1415   \n",
      "3     ABC1234DEF  Ariff Johan  Singapore  2345-6789-1011 -1213-1415   \n",
      "4     ABC1234DEF  Ariff Johan  Singapore  2345-6789-1011 -1213-1415   \n",
      "\n",
      "                transactiondate                    merchant   amount  \n",
      "0      Friday, 3 September 2021  5 SENSES BISTRO, SINGAPORE   $40.35  \n",
      "1    Saturday, 4 September 2021            A.LAB, SINGAPORE  $250.22  \n",
      "2     Tuesday, 7 September 2021         B*DAZZLE, SINGAPORE   $22.50  \n",
      "3  Wednesday, 15 September 2021      CAFE KURIKO, SINGAPORE   $12.95  \n",
      "4    Tuesday, 21 September 2021      DDM FASHION, SINGAPORE   $55.85  \n",
      "  passportnumber         name citizenship               departuredate  \\\n",
      "0     ABC1234DEF  Ariff Johan  Singapore      Thursday, 12 April 2018   \n",
      "1     ABC1234DEF  Ariff Johan  Singapore          Sunday, 2 June 2019   \n",
      "2     ABC1234DEF  Ariff Johan  Singapore        Friday, 12 March 2021   \n",
      "3     ABC1234DEF  Ariff Johan  Singapore    Sunday, 26 September 2021   \n",
      "4     ABC1234DEF  Ariff Johan  Singapore   Saturday, 11 December 2021   \n",
      "\n",
      "  departurecountry                 arrivaldate arrivalcountry  \n",
      "0       Singapore      Thursday, 12 April 2018         Hawaii  \n",
      "1       Singapore          Sunday, 2 June 2019     Indonesia   \n",
      "2       Singapore        Friday, 12 March 2021          Korea  \n",
      "3       Singapore    Sunday, 26 September 2021        Vietnam  \n",
      "4       Singapore   Saturday, 11 December 2021          Dubai  \n",
      "  passportnumber         name    country  \\\n",
      "0     ABC1234DEF  Ariff Johan  Singapore   \n",
      "1     ABC1234DEF  Ariff Johan  Singapore   \n",
      "2     ABC1234DEF  Ariff Johan  Singapore   \n",
      "3     GHI5678JKL    Alice Gan   Malaysia   \n",
      "4     GHI5678JKL    Alice Gan   Malaysia   \n",
      "\n",
      "                               nameoforganization  \\\n",
      "0                              Moon Microsystems    \n",
      "1                                 PA Technologies   \n",
      "2                                Ultimate Pte Ltd   \n",
      "3  Journal of Engineering Science and Technology    \n",
      "4           British Malaysian Chamber of Commerce   \n",
      "\n",
      "                                         designation  startyear  endyear  \n",
      "0                    Vice President Global Marketing       1996     2010  \n",
      "1                  Vice President Regional Marketing       2011     2017  \n",
      "2                          Senior Marketing Director       2018  Present  \n",
      "3                           Founding Editor in Chief       1996     2018  \n",
      "4  Director and Chairman of the Higher Education ...       2019  Present  \n"
     ]
    }
   ],
   "source": [
    "import pandas as pd\n",
    "data_rider_edu = pd.read_csv('sng_education.csv')\n",
    "data_rider_tra = pd.read_csv('sng_transaction.csv')\n",
    "data_rider_trip = pd.read_csv('sng_trips.csv')\n",
    "data_rider_work = pd.read_csv('sng_work.csv')\n",
    "\n",
    "print(data_rider_edu.head(5))\n",
    "print(data_rider_tra.head(5))\n",
    "print(data_rider_trip.head(5))\n",
    "print(data_rider_work.head(5))\n",
    "\n"
   ]
  },
  {
   "cell_type": "code",
   "execution_count": 46,
   "id": "e5d9d217-45a8-4413-a8c6-5306dd65e927",
   "metadata": {},
   "outputs": [
    {
     "data": {
      "text/html": [
       "(No data)"
      ],
      "text/plain": [
       "(No data)"
      ]
     },
     "execution_count": 46,
     "metadata": {},
     "output_type": "execute_result"
    }
   ],
   "source": [
    "query_data_rider_edu= \"\"\"\n",
    "load csv with headers  from  'file:///sng_education.csv' as line\n",
    "create (:Education{passportnumber:line['passportnumber'],name:line['name'],\n",
    "country: line['country'],nameofinstitution: line['nameofinstitution'],course: line['course'],startyear: line['startyear'],endyear: line['endyear']})\n",
    "\"\"\"\n",
    "graph.run(query_data_rider_edu)"
   ]
  },
  {
   "cell_type": "code",
   "execution_count": 47,
   "id": "df36de18-3093-44fc-beeb-7ac9821ce65c",
   "metadata": {},
   "outputs": [
    {
     "data": {
      "text/html": [
       "(No data)"
      ],
      "text/plain": [
       "(No data)"
      ]
     },
     "execution_count": 47,
     "metadata": {},
     "output_type": "execute_result"
    }
   ],
   "source": [
    "query_data_rider_tran= \"\"\"\n",
    "load csv with headers  from  'file:///sng_transaction.csv' as line\n",
    "create (:Transaction{passportnumber:line['passportnumber'],name:line['name'],\n",
    "country: line['country'],cardnumber: line['cardnumber'],\n",
    "transactiondate: line['transactiondate'],merchant: line['merchant'],amount: line['amount']})\n",
    "\"\"\"\n",
    "graph.run(query_data_rider_tran)"
   ]
  },
  {
   "cell_type": "code",
   "execution_count": 48,
   "id": "e62416b6-220a-41f5-b8a2-680dd5fc76d1",
   "metadata": {},
   "outputs": [
    {
     "data": {
      "text/html": [
       "(No data)"
      ],
      "text/plain": [
       "(No data)"
      ]
     },
     "execution_count": 48,
     "metadata": {},
     "output_type": "execute_result"
    }
   ],
   "source": [
    "query_data_rider_trips= \"\"\"\n",
    "load csv with headers  from  'file:///sng_trips.csv' as line\n",
    "create (:Trips{passportnumber:line['passportnumber'],name:line['name'],\n",
    "citizenship: line['citizenship'],departuredate: line['departuredate'],departurecountry: line['departurecountry'],\n",
    "arrivaldate: line['arrivaldate'],arrivalcountry: line['arrivalcountry']})\n",
    "\"\"\"\n",
    "graph.run(query_data_rider_trips)"
   ]
  },
  {
   "cell_type": "code",
   "execution_count": 49,
   "id": "c31595d0-3594-4c2f-863c-b059fbe1bede",
   "metadata": {},
   "outputs": [
    {
     "data": {
      "text/html": [
       "(No data)"
      ],
      "text/plain": [
       "(No data)"
      ]
     },
     "execution_count": 49,
     "metadata": {},
     "output_type": "execute_result"
    }
   ],
   "source": [
    "query_data_rider_work= \"\"\"\n",
    "load csv with headers  from  'file:///sng_work.csv' as line\n",
    "create (:Work{passportnumber:line['passportnumber'],name:line['name'],\n",
    "country: line['country'],nameoforganization: line['nameoforganization'],\n",
    "designation: line['designation'],startyear: line['startyear'],endyear: line['endyear']})\n",
    "\"\"\"\n",
    "graph.run(query_data_rider_work)"
   ]
  },
  {
   "cell_type": "code",
   "execution_count": 50,
   "id": "a0793f2c-968d-4d3d-a982-1e7fb6f4fc08",
   "metadata": {
    "scrolled": true
   },
   "outputs": [
    {
     "data": {
      "text/html": [
       "<table><tr><th>ed</th><th>w</th><th>r</th></tr><tr><td style=\"text-align:left\">(_81:Education {country: &#039;Malaysia&#039;, course: &#039;-&#039;, endyear: &#039;1983&#039;, name: &#039;Anil Kumar&#039;, nameofinstitution: &#039;Raika Primary School&#039;, passportnumber: &#039;MNO9101PQR&#039;, startyear: &#039;1978&#039;})</td><td style=\"text-align:left\">(_129:Work {country: &#039;India&#039;, designation: &#039;Rotational Analyst&#039;, endyear: &#039;2010&#039;, name: &#039;Anil Kumar&#039;, nameoforganization: &#039;Deutsche Bank (India)&#039;, passportnumber: &#039;MNO9101PQR&#039;, startyear: &#039;1996&#039;})</td><td style=\"text-align:left\">(Anil Kumar)-[:working_with {}]-&gt;(Anil Kumar)</td></tr><tr><td style=\"text-align:left\">(_81:Education {country: &#039;Malaysia&#039;, course: &#039;-&#039;, endyear: &#039;1983&#039;, name: &#039;Anil Kumar&#039;, nameofinstitution: &#039;Raika Primary School&#039;, passportnumber: &#039;MNO9101PQR&#039;, startyear: &#039;1978&#039;})</td><td style=\"text-align:left\">(_130:Work {country: &#039;India&#039;, designation: &#039;Portfolio Manager&#039;, endyear: &#039;2017&#039;, name: &#039;Anil Kumar&#039;, nameoforganization: &#039;Deutsche Bank (India)&#039;, passportnumber: &#039;MNO9101PQR&#039;, startyear: &#039;2011&#039;})</td><td style=\"text-align:left\">(Anil Kumar)-[:working_with {}]-&gt;(Anil Kumar)</td></tr><tr><td style=\"text-align:left\">(_81:Education {country: &#039;Malaysia&#039;, course: &#039;-&#039;, endyear: &#039;1983&#039;, name: &#039;Anil Kumar&#039;, nameofinstitution: &#039;Raika Primary School&#039;, passportnumber: &#039;MNO9101PQR&#039;, startyear: &#039;1978&#039;})</td><td style=\"text-align:left\">(_131:Work {country: &#039;India&#039;, designation: &#039;Working Capital Advisory&#039;, endyear: &#039;Present&#039;, name: &#039;Anil Kumar&#039;, nameoforganization: &#039;Deutsche Bank (India)&#039;, passportnumber: &#039;MNO9101PQR&#039;, startyear: &#039;2017&#039;})</td><td style=\"text-align:left\">(Anil Kumar)-[:working_with {}]-&gt;(Anil Kumar)</td></tr></table>"
      ],
      "text/plain": [
       " ed                                                                                                                                                                                  | w                                                                                                                                                                                                             | r                                             \n",
       "-------------------------------------------------------------------------------------------------------------------------------------------------------------------------------------|---------------------------------------------------------------------------------------------------------------------------------------------------------------------------------------------------------------|-----------------------------------------------\n",
       " (_81:Education {country: 'Malaysia', course: '-', endyear: '1983', name: 'Anil Kumar', nameofinstitution: 'Raika Primary School', passportnumber: 'MNO9101PQR', startyear: '1978'}) | (_129:Work {country: 'India', designation: 'Rotational Analyst', endyear: '2010', name: 'Anil Kumar', nameoforganization: 'Deutsche Bank (India)', passportnumber: 'MNO9101PQR', startyear: '1996'})          | (Anil Kumar)-[:working_with {}]->(Anil Kumar) \n",
       " (_81:Education {country: 'Malaysia', course: '-', endyear: '1983', name: 'Anil Kumar', nameofinstitution: 'Raika Primary School', passportnumber: 'MNO9101PQR', startyear: '1978'}) | (_130:Work {country: 'India', designation: 'Portfolio Manager', endyear: '2017', name: 'Anil Kumar', nameoforganization: 'Deutsche Bank (India)', passportnumber: 'MNO9101PQR', startyear: '2011'})           | (Anil Kumar)-[:working_with {}]->(Anil Kumar) \n",
       " (_81:Education {country: 'Malaysia', course: '-', endyear: '1983', name: 'Anil Kumar', nameofinstitution: 'Raika Primary School', passportnumber: 'MNO9101PQR', startyear: '1978'}) | (_131:Work {country: 'India', designation: 'Working Capital Advisory', endyear: 'Present', name: 'Anil Kumar', nameoforganization: 'Deutsche Bank (India)', passportnumber: 'MNO9101PQR', startyear: '2017'}) | (Anil Kumar)-[:working_with {}]->(Anil Kumar) "
      ]
     },
     "execution_count": 50,
     "metadata": {},
     "output_type": "execute_result"
    }
   ],
   "source": [
    "create_realation_working_with = \"\"\"\n",
    "MATCH(ed:Education),(w:Work)\n",
    "where ed.passportnumber = w.passportnumber\n",
    "CREATE (ed) -[r:working_with] ->(w)\n",
    "return ed,w,r\n",
    "\"\"\"\n",
    "graph.run(create_realation)"
   ]
  },
  {
   "cell_type": "code",
   "execution_count": 51,
   "id": "b50bd052-6087-4842-bcb0-69494549943e",
   "metadata": {},
   "outputs": [
    {
     "data": {
      "text/html": [
       "<table><tr><th>w</th><th>tr</th><th>r</th></tr><tr><td style=\"text-align:left\">(_124:Work {country: &#039;Singapore&#039;, designation: &#039;Vice President Global Marketing&#039;, endyear: &#039;2010&#039;, name: &#039;Ariff Johan&#039;, nameoforganization: &#039;Moon Microsystems &#039;, passportnumber: &#039;ABC1234DEF&#039;, startyear: &#039;1996&#039;})</td><td style=\"text-align:left\">(_109:Trips {arrivalcountry: &#039;Hawaii&#039;, arrivaldate: &#039;Thursday, 12 April 2018&#039;, citizenship: &#039;Singapore &#039;, departurecountry: &#039;Singapore &#039;, departuredate: &#039;Thursday, 12 April 2018&#039;, name: &#039;Ariff Johan&#039;, passportnumber: &#039;ABC1234DEF&#039;})</td><td style=\"text-align:left\">(Ariff Johan)-[:Perform_Trips {}]-&gt;(Ariff Johan)</td></tr><tr><td style=\"text-align:left\">(_125:Work {country: &#039;Singapore&#039;, designation: &#039;Vice President Regional Marketing&#039;, endyear: &#039;2017&#039;, name: &#039;Ariff Johan&#039;, nameoforganization: &#039;PA Technologies&#039;, passportnumber: &#039;ABC1234DEF&#039;, startyear: &#039;2011&#039;})</td><td style=\"text-align:left\">(_109:Trips {arrivalcountry: &#039;Hawaii&#039;, arrivaldate: &#039;Thursday, 12 April 2018&#039;, citizenship: &#039;Singapore &#039;, departurecountry: &#039;Singapore &#039;, departuredate: &#039;Thursday, 12 April 2018&#039;, name: &#039;Ariff Johan&#039;, passportnumber: &#039;ABC1234DEF&#039;})</td><td style=\"text-align:left\">(Ariff Johan)-[:Perform_Trips {}]-&gt;(Ariff Johan)</td></tr><tr><td style=\"text-align:left\">(_126:Work {country: &#039;Singapore&#039;, designation: &#039;Senior Marketing Director&#039;, endyear: &#039;Present&#039;, name: &#039;Ariff Johan&#039;, nameoforganization: &#039;Ultimate Pte Ltd&#039;, passportnumber: &#039;ABC1234DEF&#039;, startyear: &#039;2018&#039;})</td><td style=\"text-align:left\">(_109:Trips {arrivalcountry: &#039;Hawaii&#039;, arrivaldate: &#039;Thursday, 12 April 2018&#039;, citizenship: &#039;Singapore &#039;, departurecountry: &#039;Singapore &#039;, departuredate: &#039;Thursday, 12 April 2018&#039;, name: &#039;Ariff Johan&#039;, passportnumber: &#039;ABC1234DEF&#039;})</td><td style=\"text-align:left\">(Ariff Johan)-[:Perform_Trips {}]-&gt;(Ariff Johan)</td></tr></table>"
      ],
      "text/plain": [
       " w                                                                                                                                                                                                                   | tr                                                                                                                                                                                                                                      | r                                                \n",
       "---------------------------------------------------------------------------------------------------------------------------------------------------------------------------------------------------------------------|-----------------------------------------------------------------------------------------------------------------------------------------------------------------------------------------------------------------------------------------|--------------------------------------------------\n",
       " (_124:Work {country: 'Singapore', designation: 'Vice President Global Marketing', endyear: '2010', name: 'Ariff Johan', nameoforganization: 'Moon Microsystems ', passportnumber: 'ABC1234DEF', startyear: '1996'}) | (_109:Trips {arrivalcountry: 'Hawaii', arrivaldate: 'Thursday, 12 April 2018', citizenship: 'Singapore ', departurecountry: 'Singapore ', departuredate: 'Thursday, 12 April 2018', name: 'Ariff Johan', passportnumber: 'ABC1234DEF'}) | (Ariff Johan)-[:Perform_Trips {}]->(Ariff Johan) \n",
       " (_125:Work {country: 'Singapore', designation: 'Vice President Regional Marketing', endyear: '2017', name: 'Ariff Johan', nameoforganization: 'PA Technologies', passportnumber: 'ABC1234DEF', startyear: '2011'})  | (_109:Trips {arrivalcountry: 'Hawaii', arrivaldate: 'Thursday, 12 April 2018', citizenship: 'Singapore ', departurecountry: 'Singapore ', departuredate: 'Thursday, 12 April 2018', name: 'Ariff Johan', passportnumber: 'ABC1234DEF'}) | (Ariff Johan)-[:Perform_Trips {}]->(Ariff Johan) \n",
       " (_126:Work {country: 'Singapore', designation: 'Senior Marketing Director', endyear: 'Present', name: 'Ariff Johan', nameoforganization: 'Ultimate Pte Ltd', passportnumber: 'ABC1234DEF', startyear: '2018'})      | (_109:Trips {arrivalcountry: 'Hawaii', arrivaldate: 'Thursday, 12 April 2018', citizenship: 'Singapore ', departurecountry: 'Singapore ', departuredate: 'Thursday, 12 April 2018', name: 'Ariff Johan', passportnumber: 'ABC1234DEF'}) | (Ariff Johan)-[:Perform_Trips {}]->(Ariff Johan) "
      ]
     },
     "execution_count": 51,
     "metadata": {},
     "output_type": "execute_result"
    }
   ],
   "source": [
    "create_Perform_Trips = \"\"\"\n",
    "MATCH (w:Work),(tr:Trips)\n",
    "where w.passportnumber = tr.passportnumber\n",
    "CREATE (w) -[r:Perform_Trips]-> (tr)\n",
    "return w,tr,r\n",
    "\"\"\"\n",
    "graph.run(create_Perform_Trips)"
   ]
  },
  {
   "cell_type": "code",
   "execution_count": 52,
   "id": "86e883eb-4c14-44b4-acba-5e9eb1800fbc",
   "metadata": {},
   "outputs": [
    {
     "data": {
      "text/html": [
       "<table><tr><th>w</th><th>ed</th><th>r</th></tr><tr><td style=\"text-align:left\">(_129:Work {country: &#039;India&#039;, designation: &#039;Rotational Analyst&#039;, endyear: &#039;2010&#039;, name: &#039;Anil Kumar&#039;, nameoforganization: &#039;Deutsche Bank (India)&#039;, passportnumber: &#039;MNO9101PQR&#039;, startyear: &#039;1996&#039;})</td><td style=\"text-align:left\">(_81:Education {country: &#039;Malaysia&#039;, course: &#039;-&#039;, endyear: &#039;1983&#039;, name: &#039;Anil Kumar&#039;, nameofinstitution: &#039;Raika Primary School&#039;, passportnumber: &#039;MNO9101PQR&#039;, startyear: &#039;1978&#039;})</td><td style=\"text-align:left\">(Anil Kumar)-[:had_study_in {}]-&gt;(Anil Kumar)</td></tr><tr><td style=\"text-align:left\">(_130:Work {country: &#039;India&#039;, designation: &#039;Portfolio Manager&#039;, endyear: &#039;2017&#039;, name: &#039;Anil Kumar&#039;, nameoforganization: &#039;Deutsche Bank (India)&#039;, passportnumber: &#039;MNO9101PQR&#039;, startyear: &#039;2011&#039;})</td><td style=\"text-align:left\">(_81:Education {country: &#039;Malaysia&#039;, course: &#039;-&#039;, endyear: &#039;1983&#039;, name: &#039;Anil Kumar&#039;, nameofinstitution: &#039;Raika Primary School&#039;, passportnumber: &#039;MNO9101PQR&#039;, startyear: &#039;1978&#039;})</td><td style=\"text-align:left\">(Anil Kumar)-[:had_study_in {}]-&gt;(Anil Kumar)</td></tr><tr><td style=\"text-align:left\">(_131:Work {country: &#039;India&#039;, designation: &#039;Working Capital Advisory&#039;, endyear: &#039;Present&#039;, name: &#039;Anil Kumar&#039;, nameoforganization: &#039;Deutsche Bank (India)&#039;, passportnumber: &#039;MNO9101PQR&#039;, startyear: &#039;2017&#039;})</td><td style=\"text-align:left\">(_81:Education {country: &#039;Malaysia&#039;, course: &#039;-&#039;, endyear: &#039;1983&#039;, name: &#039;Anil Kumar&#039;, nameofinstitution: &#039;Raika Primary School&#039;, passportnumber: &#039;MNO9101PQR&#039;, startyear: &#039;1978&#039;})</td><td style=\"text-align:left\">(Anil Kumar)-[:had_study_in {}]-&gt;(Anil Kumar)</td></tr></table>"
      ],
      "text/plain": [
       " w                                                                                                                                                                                                             | ed                                                                                                                                                                                  | r                                             \n",
       "---------------------------------------------------------------------------------------------------------------------------------------------------------------------------------------------------------------|-------------------------------------------------------------------------------------------------------------------------------------------------------------------------------------|-----------------------------------------------\n",
       " (_129:Work {country: 'India', designation: 'Rotational Analyst', endyear: '2010', name: 'Anil Kumar', nameoforganization: 'Deutsche Bank (India)', passportnumber: 'MNO9101PQR', startyear: '1996'})          | (_81:Education {country: 'Malaysia', course: '-', endyear: '1983', name: 'Anil Kumar', nameofinstitution: 'Raika Primary School', passportnumber: 'MNO9101PQR', startyear: '1978'}) | (Anil Kumar)-[:had_study_in {}]->(Anil Kumar) \n",
       " (_130:Work {country: 'India', designation: 'Portfolio Manager', endyear: '2017', name: 'Anil Kumar', nameoforganization: 'Deutsche Bank (India)', passportnumber: 'MNO9101PQR', startyear: '2011'})           | (_81:Education {country: 'Malaysia', course: '-', endyear: '1983', name: 'Anil Kumar', nameofinstitution: 'Raika Primary School', passportnumber: 'MNO9101PQR', startyear: '1978'}) | (Anil Kumar)-[:had_study_in {}]->(Anil Kumar) \n",
       " (_131:Work {country: 'India', designation: 'Working Capital Advisory', endyear: 'Present', name: 'Anil Kumar', nameoforganization: 'Deutsche Bank (India)', passportnumber: 'MNO9101PQR', startyear: '2017'}) | (_81:Education {country: 'Malaysia', course: '-', endyear: '1983', name: 'Anil Kumar', nameofinstitution: 'Raika Primary School', passportnumber: 'MNO9101PQR', startyear: '1978'}) | (Anil Kumar)-[:had_study_in {}]->(Anil Kumar) "
      ]
     },
     "execution_count": 52,
     "metadata": {},
     "output_type": "execute_result"
    }
   ],
   "source": [
    "create_had_study_in = \"\"\"\n",
    "MATCH (w:Work),(ed:Education)\n",
    "where w.passportnumber = ed.passportnumber\n",
    "CREATE (w) -[r:had_study_in] ->(ed)\n",
    "return w,ed,r\n",
    "\"\"\"\n",
    "graph.run(create_had_study_in)"
   ]
  },
  {
   "cell_type": "code",
   "execution_count": 53,
   "id": "5abd2326-3a0b-425c-98f5-410889e6548b",
   "metadata": {},
   "outputs": [
    {
     "data": {
      "text/html": [
       "<table><tr><th>w</th><th>tr</th><th>r</th></tr><tr><td style=\"text-align:left\">(_127:Work {country: &#039;Malaysia&#039;, designation: &#039;Founding Editor in Chief&#039;, endyear: &#039;2018&#039;, name: &#039;Alice Gan&#039;, nameoforganization: &#039;Journal of Engineering Science and Technology &#039;, passportnumber: &#039;GHI5678JKL&#039;, startyear: &#039;1996&#039;})</td><td style=\"text-align:left\">(_0:Transaction {amount: &#039;$22.50&#039;, cardnumber: &#039;4567-8910-1112-1314-1516&#039;, country: &#039;Malaysia&#039;, merchant: &#039;AYAM PENYET EXPRESS, MALAYSIA &#039;, name: &#039;Alice Gan&#039;, passportnumber: &#039;GHI5678JKL&#039;, transactiondate: &#039;Wednesday, 8 September 2021&#039;})</td><td style=\"text-align:left\">(Alice Gan)-[:has_performed_transaction {}]-&gt;(Alice Gan)</td></tr><tr><td style=\"text-align:left\">(_128:Work {country: &#039;Malaysia&#039;, designation: &#039;Director and Chairman of the Higher Education Committee&#039;, endyear: &#039;Present&#039;, name: &#039;Alice Gan&#039;, nameoforganization: &#039;British Malaysian Chamber of Commerce&#039;, passportnumber: &#039;GHI5678JKL&#039;, startyear: &#039;2019&#039;})</td><td style=\"text-align:left\">(_0:Transaction {amount: &#039;$22.50&#039;, cardnumber: &#039;4567-8910-1112-1314-1516&#039;, country: &#039;Malaysia&#039;, merchant: &#039;AYAM PENYET EXPRESS, MALAYSIA &#039;, name: &#039;Alice Gan&#039;, passportnumber: &#039;GHI5678JKL&#039;, transactiondate: &#039;Wednesday, 8 September 2021&#039;})</td><td style=\"text-align:left\">(Alice Gan)-[:has_performed_transaction {}]-&gt;(Alice Gan)</td></tr><tr><td style=\"text-align:left\">(_127:Work {country: &#039;Malaysia&#039;, designation: &#039;Founding Editor in Chief&#039;, endyear: &#039;2018&#039;, name: &#039;Alice Gan&#039;, nameoforganization: &#039;Journal of Engineering Science and Technology &#039;, passportnumber: &#039;GHI5678JKL&#039;, startyear: &#039;1996&#039;})</td><td style=\"text-align:left\">(_1:Transaction {amount: &#039;$390.30&#039;, cardnumber: &#039;4567-8910-1112-1314-1516&#039;, country: &#039;Malaysia&#039;, merchant: &#039;FASHION AVENUE, MALAYSIA &#039;, name: &#039;Alice Gan&#039;, passportnumber: &#039;GHI5678JKL&#039;, transactiondate: &#039;Wednesday, 22 September 2021&#039;})</td><td style=\"text-align:left\">(Alice Gan)-[:has_performed_transaction {}]-&gt;(Alice Gan)</td></tr></table>"
      ],
      "text/plain": [
       " w                                                                                                                                                                                                                                                              | tr                                                                                                                                                                                                                                            | r                                                        \n",
       "----------------------------------------------------------------------------------------------------------------------------------------------------------------------------------------------------------------------------------------------------------------|-----------------------------------------------------------------------------------------------------------------------------------------------------------------------------------------------------------------------------------------------|----------------------------------------------------------\n",
       " (_127:Work {country: 'Malaysia', designation: 'Founding Editor in Chief', endyear: '2018', name: 'Alice Gan', nameoforganization: 'Journal of Engineering Science and Technology ', passportnumber: 'GHI5678JKL', startyear: '1996'})                          | (_0:Transaction {amount: '$22.50', cardnumber: '4567-8910-1112-1314-1516', country: 'Malaysia', merchant: 'AYAM PENYET EXPRESS, MALAYSIA ', name: 'Alice Gan', passportnumber: 'GHI5678JKL', transactiondate: 'Wednesday, 8 September 2021'}) | (Alice Gan)-[:has_performed_transaction {}]->(Alice Gan) \n",
       " (_128:Work {country: 'Malaysia', designation: 'Director and Chairman of the Higher Education Committee', endyear: 'Present', name: 'Alice Gan', nameoforganization: 'British Malaysian Chamber of Commerce', passportnumber: 'GHI5678JKL', startyear: '2019'}) | (_0:Transaction {amount: '$22.50', cardnumber: '4567-8910-1112-1314-1516', country: 'Malaysia', merchant: 'AYAM PENYET EXPRESS, MALAYSIA ', name: 'Alice Gan', passportnumber: 'GHI5678JKL', transactiondate: 'Wednesday, 8 September 2021'}) | (Alice Gan)-[:has_performed_transaction {}]->(Alice Gan) \n",
       " (_127:Work {country: 'Malaysia', designation: 'Founding Editor in Chief', endyear: '2018', name: 'Alice Gan', nameoforganization: 'Journal of Engineering Science and Technology ', passportnumber: 'GHI5678JKL', startyear: '1996'})                          | (_1:Transaction {amount: '$390.30', cardnumber: '4567-8910-1112-1314-1516', country: 'Malaysia', merchant: 'FASHION AVENUE, MALAYSIA ', name: 'Alice Gan', passportnumber: 'GHI5678JKL', transactiondate: 'Wednesday, 22 September 2021'})    | (Alice Gan)-[:has_performed_transaction {}]->(Alice Gan) "
      ]
     },
     "execution_count": 53,
     "metadata": {},
     "output_type": "execute_result"
    }
   ],
   "source": [
    "create_has_performed_transaction = \"\"\"\n",
    "MATCH (w:Work),(tr:Transaction)\n",
    "where w.passportnumber = tr.passportnumber\n",
    "CREATE (w) -[r:has_performed_transaction] ->(tr)\n",
    "return w,tr,r\n",
    "\"\"\"\n",
    "graph.run(create_has_performed_transaction)"
   ]
  },
  {
   "cell_type": "code",
   "execution_count": null,
   "id": "bfd715a4-d0b8-4a80-ba06-189a84af92c8",
   "metadata": {},
   "outputs": [],
   "source": []
  }
 ],
 "metadata": {
  "kernelspec": {
   "display_name": "Python 3 (ipykernel)",
   "language": "python",
   "name": "python3"
  },
  "language_info": {
   "codemirror_mode": {
    "name": "ipython",
    "version": 3
   },
   "file_extension": ".py",
   "mimetype": "text/x-python",
   "name": "python",
   "nbconvert_exporter": "python",
   "pygments_lexer": "ipython3",
   "version": "3.10.4"
  }
 },
 "nbformat": 4,
 "nbformat_minor": 5
}
